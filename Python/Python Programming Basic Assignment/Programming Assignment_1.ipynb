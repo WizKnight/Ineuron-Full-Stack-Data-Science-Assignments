{
 "cells": [
  {
   "cell_type": "markdown",
   "id": "baf9e054",
   "metadata": {},
   "source": [
    " # Programming Assignment No. 1 Solutions\n",
    "\n",
    "## Name: Swapnil Jikar"
   ]
  },
  {
   "cell_type": "markdown",
   "id": "c69032ef",
   "metadata": {},
   "source": [
    "### 1. Write a Python program to print &quot;Hello Python&quot;?"
   ]
  },
  {
   "cell_type": "code",
   "execution_count": 1,
   "id": "074ea006",
   "metadata": {},
   "outputs": [
    {
     "name": "stdout",
     "output_type": "stream",
     "text": [
      "Hello Python\n"
     ]
    }
   ],
   "source": [
    "h = \"Hello Python\"\n",
    "print(h)"
   ]
  },
  {
   "cell_type": "markdown",
   "id": "f7821f5b",
   "metadata": {},
   "source": [
    "### 2. Write a Python program to do arithmetical operations addition and division.?"
   ]
  },
  {
   "cell_type": "code",
   "execution_count": 3,
   "id": "8de0feaa",
   "metadata": {},
   "outputs": [
    {
     "name": "stdout",
     "output_type": "stream",
     "text": [
      "Select a Arithmetic Operation:         \n",
      "1.Addition(+)        \n",
      "2.Division(-)        \n",
      "2.Multiplication(*)        \n",
      "4.Division(/)        \n",
      "3.Stop(0)\n",
      "\n",
      "Enter an arithmetic operation -> +\n",
      "\n",
      "Enter 1st number: 45\n",
      "\n",
      "Enter 2nd number: 28\n",
      "45+28 = 73\n",
      "\n",
      "Enter an arithmetic operation -> 96-54\n",
      "Enter a valid operator\n",
      "Enter an arithmetic operation -> -\n",
      "\n",
      "Enter 1st number: 58\n",
      "\n",
      "Enter 2nd number: 26\n",
      "58-26 = 32\n",
      "\n",
      "Enter an arithmetic operation -> *\n",
      "\n",
      "Enter 1st number: 72\n",
      "\n",
      "Enter 2nd number: 64\n",
      "72*64 = 4608\n",
      "\n",
      "Enter an arithmetic operation -> /\n",
      "\n",
      "Enter 1st number: 4568\n",
      "\n",
      "Enter 2nd number: 96\n",
      "4568/96 = 47.583333333333336\n",
      "\n",
      "Enter an arithmetic operation -> .\n",
      "Enter a valid operator\n",
      "Enter an arithmetic operation -> 0\n",
      "Program stopped successfully\n"
     ]
    }
   ],
   "source": [
    "import operator\n",
    "\n",
    "ops = { \"+\": operator.add, \"-\": operator.sub, \"*\":operator.mul, \"/\":operator.truediv } \n",
    "\n",
    "print('Select a Arithmetic Operation: \\\n",
    "        \\n1.Addition(+)\\\n",
    "        \\n2.Division(-)\\\n",
    "        \\n2.Multiplication(*)\\\n",
    "        \\n4.Division(/)\\\n",
    "        \\n3.Stop(0)\\n')\n",
    "\n",
    "while True:\n",
    "    operator = input(\"Enter an arithmetic operation -> \")\n",
    "    if operator == '0':\n",
    "        print(\"Program stopped successfully\")\n",
    "        break\n",
    "        \n",
    "    elif operator not in ['+','-','*','/']:\n",
    "        print(\"Enter a valid operator\")\n",
    "        \n",
    "    else:\n",
    "        num_1 = int(input('\\nEnter 1st number: '))\n",
    "        num_2 = int(input('\\nEnter 2nd number: '))\n",
    "        \n",
    "        print('{}{}{} = {}\\n'.format(num_1,operator,num_2, ops[operator](num_1,num_2)))"
   ]
  },
  {
   "cell_type": "markdown",
   "id": "b7bc6e0d",
   "metadata": {},
   "source": [
    "### 3. Write a Python program to find the area of a triangle?"
   ]
  },
  {
   "cell_type": "code",
   "execution_count": 5,
   "id": "b3acfe40",
   "metadata": {},
   "outputs": [
    {
     "name": "stdout",
     "output_type": "stream",
     "text": [
      "Enter height of a triangle: 24\n",
      "Enter base length of a triangle: 12\n",
      "\n",
      "Area of a triangle -> 144.0\n"
     ]
    }
   ],
   "source": [
    "height = int(input('Enter height of a triangle: '))\n",
    "base = int(input('Enter base length of a triangle: '))\n",
    "\n",
    "def areaOfTriangle(height,base):\n",
    "    print('\\nArea of a triangle ->', 0.5*height*base)\n",
    "    \n",
    "areaOfTriangle(height, base)"
   ]
  },
  {
   "cell_type": "markdown",
   "id": "a15e95ac",
   "metadata": {},
   "source": [
    "### 4. Write a Python program to swap two variables?"
   ]
  },
  {
   "cell_type": "code",
   "execution_count": 6,
   "id": "c79047c7",
   "metadata": {},
   "outputs": [
    {
     "name": "stdout",
     "output_type": "stream",
     "text": [
      "Enter 1st number: 5\n",
      "Enter 2nd number: 8\n",
      "Before Swapping ->  5 8\n",
      "After Swapping ->  8 5\n"
     ]
    }
   ],
   "source": [
    "num_1 = int(input('Enter 1st number: '))\n",
    "num_2 = int(input('Enter 2nd number: '))\n",
    "\n",
    "def swapNumbers(a,b):\n",
    "    temp=a\n",
    "    a = b\n",
    "    b = temp\n",
    "    return a,b\n",
    "\n",
    "print('Before Swapping -> ',num_1,num_2)\n",
    "\n",
    "num_1,num_2 = swapNumbers(num_1,num_2)\n",
    "\n",
    "print('After Swapping -> ', num_1,num_2)"
   ]
  },
  {
   "cell_type": "markdown",
   "id": "e029288b",
   "metadata": {},
   "source": [
    "### 5. Write a Python program to generate a random number?"
   ]
  },
  {
   "cell_type": "code",
   "execution_count": 10,
   "id": "2ed8612f",
   "metadata": {},
   "outputs": [
    {
     "name": "stdout",
     "output_type": "stream",
     "text": [
      "Random Number ->  59567\n",
      "Random Number ->  324\n"
     ]
    }
   ],
   "source": [
    "from random import randint\n",
    "\n",
    "def generateRandomNumber(start=0, ends=100000):\n",
    "    print('Random Number -> ', randint(start,ends))\n",
    "    \n",
    "# Generating random numbers without arguments\n",
    "generateRandomNumber()\n",
    "\n",
    "# Generating Random numbers with argument\n",
    "generateRandomNumber(0,500)"
   ]
  },
  {
   "cell_type": "code",
   "execution_count": null,
   "id": "ae5013ef",
   "metadata": {},
   "outputs": [],
   "source": []
  }
 ],
 "metadata": {
  "kernelspec": {
   "display_name": "Python 3 (ipykernel)",
   "language": "python",
   "name": "python3"
  },
  "language_info": {
   "codemirror_mode": {
    "name": "ipython",
    "version": 3
   },
   "file_extension": ".py",
   "mimetype": "text/x-python",
   "name": "python",
   "nbconvert_exporter": "python",
   "pygments_lexer": "ipython3",
   "version": "3.10.9"
  }
 },
 "nbformat": 4,
 "nbformat_minor": 5
}
