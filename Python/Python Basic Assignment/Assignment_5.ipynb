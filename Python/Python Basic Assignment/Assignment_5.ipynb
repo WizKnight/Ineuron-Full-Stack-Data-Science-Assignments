{
 "cells": [
  {
   "cell_type": "markdown",
   "id": "bf195d98",
   "metadata": {},
   "source": [
    "# Assignment 5\n",
    "#### *Name: Swapnil Jikar*"
   ]
  },
  {
   "cell_type": "markdown",
   "id": "71d8c1b3",
   "metadata": {},
   "source": [
    "### 1. What does an empty dictionary&#39;s code look like?"
   ]
  },
  {
   "cell_type": "markdown",
   "id": "53665e19",
   "metadata": {},
   "source": [
    "**Ans.** An empty dictionary is often represented by two empty curly brackets\n",
    "`d = { }` or `d = dict( )`."
   ]
  },
  {
   "cell_type": "code",
   "execution_count": 2,
   "id": "38e91dd0",
   "metadata": {},
   "outputs": [
    {
     "name": "stdout",
     "output_type": "stream",
     "text": [
      "{}\n"
     ]
    }
   ],
   "source": [
    "empty_dict = {}\n",
    "print(empty_dict)"
   ]
  },
  {
   "cell_type": "markdown",
   "id": "6cad0833",
   "metadata": {},
   "source": [
    "### 2. What is the value of a dictionary value with the key &#39;foo&#39; and the value 42?"
   ]
  },
  {
   "cell_type": "markdown",
   "id": "5e505ab4",
   "metadata": {},
   "source": [
    "**Ans.** `{'foo':42}`"
   ]
  },
  {
   "cell_type": "markdown",
   "id": "4450d479",
   "metadata": {},
   "source": [
    "### 3. What is the most significant distinction between a dictionary and a list?"
   ]
  },
  {
   "cell_type": "markdown",
   "id": "dc0e5def",
   "metadata": {},
   "source": [
    "**Ans.** Dictionaries are represented by `{}` where as Lists are represented as `[]`.\n",
    "The items stored in dictionaries are unordered, while the items in lists are ordered."
   ]
  },
  {
   "cell_type": "markdown",
   "id": "e5fa5a1f",
   "metadata": {},
   "source": [
    "### 4. What happens if you try to access spam[&#39;foo&#39;] if spam is {&#39;bar&#39;: 100}?"
   ]
  },
  {
   "cell_type": "markdown",
   "id": "d5451901",
   "metadata": {},
   "source": [
    "**Ans.** We will get a Keyerror `KeyError: 'foo'`\n"
   ]
  },
  {
   "cell_type": "markdown",
   "id": "cf5c22a9",
   "metadata": {},
   "source": [
    "### 5. If a dictionary is stored in spam, what is the difference between the expressions &#39;cat&#39; in spam and &#39;cat&#39; in spam.keys()?"
   ]
  },
  {
   "cell_type": "markdown",
   "id": "59a2479a",
   "metadata": {},
   "source": [
    "**Ans.** There is no difference . The operator checks whether a value exits as a key in the dictionary or not."
   ]
  },
  {
   "cell_type": "markdown",
   "id": "cd3bd36e",
   "metadata": {},
   "source": [
    "### 6. If a dictionary is stored in spam, what is the difference between the expressions &#39;cat&#39; in spam and &#39;cat&#39; in spam.values()?"
   ]
  },
  {
   "cell_type": "markdown",
   "id": "4867296c",
   "metadata": {},
   "source": [
    "**Ans.** 'cat' in spam checks whether its a key in dictionary, while 'cat' in spam.values() checks whether its a value for any of the key in spam."
   ]
  },
  {
   "cell_type": "markdown",
   "id": "5b5942ad",
   "metadata": {},
   "source": [
    "### 7. What is a shortcut for the following code?\n",
    " `if 'color' not in spam: spam['color'] ='black'`"
   ]
  },
  {
   "cell_type": "markdown",
   "id": "d3f52a6a",
   "metadata": {},
   "source": [
    "**Ans.** `spam.setdefault('color','black')`"
   ]
  },
  {
   "cell_type": "markdown",
   "id": "485242de",
   "metadata": {},
   "source": [
    "### 8. How do you &quot;pretty print&quot; dictionary values using which module and function?"
   ]
  },
  {
   "cell_type": "code",
   "execution_count": 4,
   "id": "76c1e5a4",
   "metadata": {},
   "outputs": [],
   "source": [
    "# Importing the pprint module\n",
    "import pprint"
   ]
  },
  {
   "cell_type": "code",
   "execution_count": 5,
   "id": "4c72c5cc",
   "metadata": {},
   "outputs": [],
   "source": [
    "dict = [{'Name':'MS Dhoni','Age':'41', 'Country': 'India'},\n",
    "       {'Name':'Ricky Pointing','Age':'48','Country':'Australia'},\n",
    "       {'Name':'Ian Bell','Age':'40', 'Country': 'England'},\n",
    "       {'Name':'AB Devilliers','Age':'39', 'Country': 'South Africa'}]"
   ]
  },
  {
   "cell_type": "code",
   "execution_count": 6,
   "id": "53b94930",
   "metadata": {
    "scrolled": true
   },
   "outputs": [
    {
     "name": "stdout",
     "output_type": "stream",
     "text": [
      "Printing using print function\n",
      " [{'Name': 'MS Dhoni', 'Age': '41', 'Country': 'India'}, {'Name': 'Ricky Pointing', 'Age': '48', 'Country': 'Australia'}, {'Name': 'Ian Bell', 'Age': '40', 'Country': 'England'}, {'Name': 'AB Devilliers', 'Age': '39', 'Country': 'South Africa'}]\n"
     ]
    }
   ],
   "source": [
    "print('Printing using print function\\n',dict)\n",
    "      "
   ]
  },
  {
   "cell_type": "code",
   "execution_count": 7,
   "id": "880bf7f7",
   "metadata": {},
   "outputs": [
    {
     "name": "stdout",
     "output_type": "stream",
     "text": [
      "Printing using pprint function\n",
      "[{'Age': '41', 'Country': 'India', 'Name': 'MS Dhoni'},\n",
      " {'Age': '48', 'Country': 'Australia', 'Name': 'Ricky Pointing'},\n",
      " {'Age': '40', 'Country': 'England', 'Name': 'Ian Bell'},\n",
      " {'Age': '39', 'Country': 'South Africa', 'Name': 'AB Devilliers'}]\n"
     ]
    }
   ],
   "source": [
    "print('Printing using pprint function')\n",
    "pprint.pprint(dict)"
   ]
  },
  {
   "cell_type": "code",
   "execution_count": null,
   "id": "6319a5b7",
   "metadata": {},
   "outputs": [],
   "source": []
  }
 ],
 "metadata": {
  "kernelspec": {
   "display_name": "Python 3 (ipykernel)",
   "language": "python",
   "name": "python3"
  },
  "language_info": {
   "codemirror_mode": {
    "name": "ipython",
    "version": 3
   },
   "file_extension": ".py",
   "mimetype": "text/x-python",
   "name": "python",
   "nbconvert_exporter": "python",
   "pygments_lexer": "ipython3",
   "version": "3.9.7"
  }
 },
 "nbformat": 4,
 "nbformat_minor": 5
}
