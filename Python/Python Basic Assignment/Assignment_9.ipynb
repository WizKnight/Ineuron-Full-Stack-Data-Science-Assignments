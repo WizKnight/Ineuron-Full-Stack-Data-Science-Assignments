{
 "cells": [
  {
   "cell_type": "markdown",
   "id": "8dab574d",
   "metadata": {},
   "source": [
    "# Assignment No. 9 Solutions\n",
    "\n",
    "## Name: Swapnil Jikar"
   ]
  },
  {
   "cell_type": "markdown",
   "id": "03c8bf88",
   "metadata": {},
   "source": [
    "### 1. To what does a relative path refer?"
   ]
  },
  {
   "cell_type": "markdown",
   "id": "c6872fa5",
   "metadata": {},
   "source": [
    "**Ans.** The `relative path` is the path to some file with respect to your current working directory.\n",
    "\n",
    "**For Example:** If Absolute path to a file called random.txt is: `C:/user/admin/docs/random.txt`. If my current working directory is `C:/user/admin/`, then the `relative path to `random.txt` will be `docs/random.txt`.\n",
    "\n",
    "**Note:** Current Working Directory + Relative Path = `Absolute Path`"
   ]
  },
  {
   "cell_type": "markdown",
   "id": "c49579d5",
   "metadata": {},
   "source": [
    "### 2. What does an absolute path start with your operating system?"
   ]
  },
  {
   "cell_type": "markdown",
   "id": "6ceb54aa",
   "metadata": {},
   "source": [
    "**Ans.** In my Windows Operating system, the absolute path starts with **`C:`**"
   ]
  },
  {
   "cell_type": "markdown",
   "id": "d13e14b1",
   "metadata": {},
   "source": [
    "### 3. What do the functions os.getcwd() and os.chdir() do?"
   ]
  },
  {
   "cell_type": "markdown",
   "id": "fbcecc7b",
   "metadata": {},
   "source": [
    "**Ans.** `os.getcwd()` method tells us the location of current working directory (CWD). Whereas, `os.chdir()` method in Python used to change the current working directory to specified path."
   ]
  },
  {
   "cell_type": "code",
   "execution_count": 4,
   "id": "59ca1f70",
   "metadata": {},
   "outputs": [
    {
     "name": "stdout",
     "output_type": "stream",
     "text": [
      "C:\\Users\\Swapnil\n",
      "C:\\Users\\Swapnil\\Documents\n"
     ]
    }
   ],
   "source": [
    "import os\n",
    "print(os.getcwd())\n",
    "\n",
    "path = r'C:\\Users\\Swapnil\\Documents'\n",
    "os.chdir(path)\n",
    "print(os.getcwd())"
   ]
  },
  {
   "cell_type": "markdown",
   "id": "c55366d4",
   "metadata": {},
   "source": [
    "### 4. What are the . and .. folders?"
   ]
  },
  {
   "cell_type": "markdown",
   "id": "d3c68618",
   "metadata": {},
   "source": [
    "**Ans.** `.` Represents the Current Directory Whereas `..` Represents the Parent Directory of the Current Directory."
   ]
  },
  {
   "cell_type": "markdown",
   "id": "f1ac1d53",
   "metadata": {},
   "source": [
    "### 5. In C:\\bacon\\eggs\\spam.txt, which part is the dir name, and which part is the base name?"
   ]
  },
  {
   "cell_type": "markdown",
   "id": "b7083a58",
   "metadata": {},
   "source": [
    "**Ans.** For `C:\\bacon\\eggs\\spam.txt`\n",
    "\n",
    "* The dir name is `C:\\bacon\\eggs`\n",
    "* The base name is `spam.txt`"
   ]
  },
  {
   "cell_type": "code",
   "execution_count": 5,
   "id": "9470af0d",
   "metadata": {},
   "outputs": [
    {
     "name": "stdout",
     "output_type": "stream",
     "text": [
      "C:\\bacon\\eggs\n",
      "spam.txt\n"
     ]
    }
   ],
   "source": [
    "import os\n",
    "path = r'C:\\bacon\\eggs\\spam.txt'\n",
    "print(os.path.dirname(path))\n",
    "print(os.path.basename(path))"
   ]
  },
  {
   "cell_type": "markdown",
   "id": "9406f18c",
   "metadata": {},
   "source": [
    "### 6. What are the three “mode” arguments that can be passed to the open() function?"
   ]
  },
  {
   "cell_type": "markdown",
   "id": "fd6108b9",
   "metadata": {},
   "source": [
    "**Ans.** An internal file can be accessed in python using **`open()`** function. It takes two arguments **`filename`** and **`mode`**.\n",
    "\n",
    "So, the syntax is: **`open(filename, mode)`**\n",
    "\n",
    "* **`‘r’`** – Read Mode: This is the default mode for open(). The file is opened and a pointer is positioned at the beginning of the file’s content.\n",
    "* **`‘w’`** – Write Mode: Using this mode will overwrite any existing content in a file. If the given file does not exist, a new one will be created.\n",
    "* **`‘r+’`** – Read/Write Mode: Use this mode if you need to simultaneously read and write to a file.\n",
    "* **`‘a’`** – Append Mode: With this mode the user can append the data without overwriting any already existing data in the file.\n",
    "* **`‘a+’`** – Append and Read Mode: In this mode you can read and append the data without overwriting the original file.\n",
    "* **`‘x’`** – Exclusive Creating Mode: This mode is for the sole purpose of creating new files. Use this mode if you know the file to be written doesn’t exist beforehand."
   ]
  },
  {
   "cell_type": "markdown",
   "id": "3bb94f65",
   "metadata": {},
   "source": [
    "### 7. What happens if an existing file is opened in write mode?"
   ]
  },
  {
   "cell_type": "markdown",
   "id": "f651174d",
   "metadata": {},
   "source": [
    "**Ans.** Using this mode will overwrite any existing content in a file. If the given file does not exist, a new one will be created."
   ]
  },
  {
   "cell_type": "markdown",
   "id": "1184ed97",
   "metadata": {},
   "source": [
    "### 8. How do you tell the difference between read() and readlines()?"
   ]
  },
  {
   "cell_type": "markdown",
   "id": "de407cae",
   "metadata": {},
   "source": [
    "**Ans.** The main difference is that **`read()`** will read the whole file at once and then print out the first characters that take up as many bytes as you specify in the parenthesis.\n",
    "\n",
    "Whereas, the **`readline()`** that will read and print out only the first characters that take up as many bytes as you specify in the parenthesis."
   ]
  },
  {
   "cell_type": "markdown",
   "id": "53ce1dfe",
   "metadata": {},
   "source": [
    "### 9. What data structure does a shelf value resemble?"
   ]
  },
  {
   "cell_type": "markdown",
   "id": "2ceabeaa",
   "metadata": {},
   "source": [
    "**Ans.** A `shelf value` resembles a `Dictionary`, which contains `keys` and `values`."
   ]
  },
  {
   "cell_type": "code",
   "execution_count": null,
   "id": "299a3082",
   "metadata": {},
   "outputs": [],
   "source": []
  }
 ],
 "metadata": {
  "kernelspec": {
   "display_name": "Python 3 (ipykernel)",
   "language": "python",
   "name": "python3"
  },
  "language_info": {
   "codemirror_mode": {
    "name": "ipython",
    "version": 3
   },
   "file_extension": ".py",
   "mimetype": "text/x-python",
   "name": "python",
   "nbconvert_exporter": "python",
   "pygments_lexer": "ipython3",
   "version": "3.9.7"
  }
 },
 "nbformat": 4,
 "nbformat_minor": 5
}
