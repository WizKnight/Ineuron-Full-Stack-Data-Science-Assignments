{
 "cells": [
  {
   "cell_type": "markdown",
   "id": "a282e7ae",
   "metadata": {},
   "source": [
    "# Assignment 2 Solutions\n",
    "\n",
    "### Name: Swapnil Jikar"
   ]
  },
  {
   "cell_type": "markdown",
   "id": "dbb39acd",
   "metadata": {},
   "source": [
    "### 1.What are the two values of the Boolean data type? How do you write them?"
   ]
  },
  {
   "cell_type": "markdown",
   "id": "c550be92",
   "metadata": {},
   "source": [
    "**Ans.** ***True*** and ***False*** are the two values of the boolean data type. We have to use capital T and F and other words in the lowercase."
   ]
  },
  {
   "cell_type": "code",
   "execution_count": 1,
   "id": "7b658866",
   "metadata": {},
   "outputs": [
    {
     "name": "stdout",
     "output_type": "stream",
     "text": [
      "True <class 'bool'>\n",
      "False <class 'bool'>\n"
     ]
    }
   ],
   "source": [
    "a = True\n",
    "b = False\n",
    "\n",
    "print(a, type(a))\n",
    "print(b, type(b))"
   ]
  },
  {
   "cell_type": "markdown",
   "id": "fc9e62e8",
   "metadata": {},
   "source": [
    "### 2. What are the three different types of Boolean operators?"
   ]
  },
  {
   "cell_type": "markdown",
   "id": "1790deed",
   "metadata": {},
   "source": [
    "**Ans.** There are three different types of boolean operators.\n",
    "\n",
    "(i) **and**\n",
    "\n",
    "(ii) **or**\n",
    "\n",
    "(iii) **not**"
   ]
  },
  {
   "cell_type": "code",
   "execution_count": 2,
   "id": "c586d374",
   "metadata": {},
   "outputs": [
    {
     "name": "stdout",
     "output_type": "stream",
     "text": [
      "True\n",
      "True\n",
      "False\n"
     ]
    }
   ],
   "source": [
    "a = 10\n",
    "b = 20\n",
    "\n",
    "print(a>7 and b>13) # Example of boolean 'and'\n",
    "print(a>20 or b>10) # Example of boolean 'or'\n",
    "print(not(a>7)) # Example of boolean 'not'"
   ]
  },
  {
   "cell_type": "markdown",
   "id": "1532e057",
   "metadata": {},
   "source": [
    "### 3. Make a list of each Boolean operator&#39;s truth tables (i.e. every possible combination of Boolean values for the operator and what it evaluate )."
   ]
  },
  {
   "cell_type": "code",
   "execution_count": 10,
   "id": "da532d88",
   "metadata": {},
   "outputs": [
    {
     "name": "stdout",
     "output_type": "stream",
     "text": [
      "The AND operator truth table:\n",
      " T F TandF\n",
      "[0, 0, 0]\n",
      "[0, 1, 0]\n",
      "[1, 0, 0]\n",
      "[1, 1, 1]\n",
      "\n",
      "The OR operator truth table:\n",
      " T F TorF\n",
      "[0, 0, 0]\n",
      "[0, 1, 1]\n",
      "[1, 0, 1]\n",
      "[1, 1, 1]\n",
      "\n",
      "The NOT operator truth table:\n",
      " T ~T\n",
      "[0, 1]\n",
      "[1, 0]\n"
     ]
    }
   ],
   "source": [
    "and_list = [[0,0,0],[0,1,0],[1,0,0],[1,1,1]]\n",
    "\n",
    "print(\"The AND operator truth table:\")\n",
    "print(\" T F TandF\")\n",
    "for i in and_list:\n",
    "    print(i)\n",
    "    \n",
    "or_list = [[0,0,0],[0,1,1],[1,0,1],[1,1,1]]\n",
    "\n",
    "print(\"\\nThe OR operator truth table:\")\n",
    "print(\" T F TorF\")\n",
    "for i in or_list:\n",
    "    print(i)\n",
    "\n",
    "not_list = [[0,1],[1,0]]\n",
    "\n",
    "print(\"\\nThe NOT operator truth table:\")\n",
    "print(\" T ~T\")\n",
    "for i in not_list:\n",
    "    print(i)"
   ]
  },
  {
   "cell_type": "markdown",
   "id": "83655633",
   "metadata": {},
   "source": [
    "### 4. What are the values of the following expressions?\n",
    "### (5 > 4) and (3 == 5)\n",
    "### not (5 > 4)\n",
    "### (5 > 4) or (3 == 5)\n",
    "### not((5 > 4) or (3 == 5))\n",
    "### (True and True) and (True == False)\n",
    "### (not False) or (not True)\n"
   ]
  },
  {
   "cell_type": "code",
   "execution_count": 25,
   "id": "74f7a1cf",
   "metadata": {},
   "outputs": [
    {
     "name": "stdout",
     "output_type": "stream",
     "text": [
      "1. False\n",
      "2. False\n",
      "3. True\n",
      "4. False\n",
      "5. False\n",
      "6. True\n"
     ]
    }
   ],
   "source": [
    "print(\"1.\",(5 > 4) and (3 == 5))\n",
    "print(\"2.\",(not (5 > 4)))\n",
    "print(\"3.\",((5 > 4) or (3 == 5)))\n",
    "print(\"4.\",(not((5 > 4) or (3 == 5))))\n",
    "print(\"5.\",((True and True) and (True == False)))\n",
    "print(\"6.\",((not False) or (not True)))"
   ]
  },
  {
   "cell_type": "markdown",
   "id": "4270cb1f",
   "metadata": {},
   "source": [
    "### 5. What are the six comparison operators?"
   ]
  },
  {
   "cell_type": "markdown",
   "id": "f9f7c978",
   "metadata": {},
   "source": [
    "**Ans.** These are 6 comparision operators:\n",
    "\n",
    "\" == \" -> Equal\n",
    "\n",
    "\" != \" -> Not equal\n",
    "\n",
    "\" > \" -> Greater than\n",
    "\n",
    "\" < \" -> Less than\n",
    "\n",
    "\" >= \"-> Greater than or equal to\n",
    "\n",
    "\" <= \" -> Less than or equal to"
   ]
  },
  {
   "cell_type": "markdown",
   "id": "1e3f2433",
   "metadata": {},
   "source": [
    "### 6. How do you tell the difference between the equal to and assignment operators?Describe a condition and when you would use one."
   ]
  },
  {
   "cell_type": "markdown",
   "id": "1d20f9d5",
   "metadata": {},
   "source": [
    "**Ans.** \"==\" is the equal to operator that compares two values and evaluates to a Boolean value, and \"=\" is the assignment operator which is used to store the value in a variable."
   ]
  },
  {
   "cell_type": "code",
   "execution_count": 26,
   "id": "b1581efc",
   "metadata": {},
   "outputs": [
    {
     "name": "stdout",
     "output_type": "stream",
     "text": [
      "True\n"
     ]
    }
   ],
   "source": [
    "a = 5 # Assignment operator that stores the value 5 in variable 'a'\n",
    "\n",
    "if a==5:\n",
    "    print(a==5) # Equal to operator comparing the value 5 with 'a'"
   ]
  },
  {
   "cell_type": "markdown",
   "id": "25f96b34",
   "metadata": {},
   "source": [
    "### 7. Identify the three blocks in this code:\n",
    "### spam = 0\n",
    "### if spam == 10:\n",
    "### print('eggs')\n",
    "### if spam > 5:\n",
    "### print('bacon')\n",
    "### else:\n",
    "### print('ham')\n",
    "### print('spam')\n",
    "### print('spam')"
   ]
  },
  {
   "cell_type": "code",
   "execution_count": 28,
   "id": "624c9021",
   "metadata": {},
   "outputs": [
    {
     "name": "stdout",
     "output_type": "stream",
     "text": [
      "ham\n",
      "spam\n",
      "spam\n"
     ]
    }
   ],
   "source": [
    "spam = 0\n",
    "if spam == 10:\n",
    "    print('eggs')\n",
    "\n",
    "if spam > 5:\n",
    "    print('bacon')\n",
    "\n",
    "else:\n",
    "    print('ham')\n",
    "    print('spam')\n",
    "    print('spam')"
   ]
  },
  {
   "cell_type": "markdown",
   "id": "6a208d59",
   "metadata": {},
   "source": [
    "### 8. Write code that prints Hello if 1 is stored in spam, prints Howdy if 2 is stored in spam, and printsGreetings! if anything else is stored in spam."
   ]
  },
  {
   "cell_type": "code",
   "execution_count": 37,
   "id": "9ab59929",
   "metadata": {},
   "outputs": [
    {
     "name": "stdout",
     "output_type": "stream",
     "text": [
      "Hello\n",
      "Howdy\n",
      "Greetings!\n"
     ]
    }
   ],
   "source": [
    "def Code(spam):\n",
    "\n",
    "    if spam == 1:\n",
    "        print('Hello')\n",
    "\n",
    "    elif spam == 2:\n",
    "        print('Howdy')\n",
    "\n",
    "    else:\n",
    "        print('Greetings!')\n",
    "        \n",
    "Code(1)\n",
    "Code(2)\n",
    "Code(3)\n",
    "    "
   ]
  },
  {
   "cell_type": "markdown",
   "id": "9af65372",
   "metadata": {},
   "source": [
    "### 9.If your programme is stuck in an endless loop, what keys you’ll press?"
   ]
  },
  {
   "cell_type": "markdown",
   "id": "362e6b4a",
   "metadata": {},
   "source": [
    "**Ans.** If the programme is stuck in an endless loop then we need to press **\"CTRL + C\"** keys."
   ]
  },
  {
   "cell_type": "markdown",
   "id": "00a2686a",
   "metadata": {},
   "source": [
    "### 10. How can you tell the difference between break and continue?"
   ]
  },
  {
   "cell_type": "markdown",
   "id": "c7b2711a",
   "metadata": {},
   "source": [
    "**Ans.**  **Break Statement:**\n",
    "\n",
    "* It is used to terminate the execution of the remaining iteration of the loop.\n",
    "* Stops the continuation of the loop.\n",
    "\n",
    "**Continue Statement:**\n",
    "\n",
    "* It is used to terminate only the current iteration of the loop.\n",
    "* It do not stops the continuation of the loop, it only stops the current iteration."
   ]
  },
  {
   "cell_type": "markdown",
   "id": "16d18fc7",
   "metadata": {},
   "source": [
    "### 11. In a for loop, what is the difference between range(10), range(0, 10), and range(0, 10, 1)?"
   ]
  },
  {
   "cell_type": "markdown",
   "id": "b9e63480",
   "metadata": {},
   "source": [
    "**Ans.** The Differences are as follows:\n",
    "\n",
    "1. The range(10), calls range from 0 to 9 (but not include 10).\n",
    "2. The range (0,10), tells the loop to initialize at 0.\n",
    "3. The range(0,10,1), tells the loop to increase the variable by 1 on each iteration."
   ]
  },
  {
   "cell_type": "code",
   "execution_count": 2,
   "id": "a70d369a",
   "metadata": {},
   "outputs": [
    {
     "name": "stdout",
     "output_type": "stream",
     "text": [
      "0\n",
      "1\n",
      "2\n",
      "3\n",
      "4\n",
      "5\n",
      "6\n",
      "7\n",
      "8\n",
      "9\n"
     ]
    }
   ],
   "source": [
    "for i in range(10):\n",
    "    print(i)"
   ]
  },
  {
   "cell_type": "code",
   "execution_count": 3,
   "id": "5140c15e",
   "metadata": {},
   "outputs": [
    {
     "name": "stdout",
     "output_type": "stream",
     "text": [
      "0\n",
      "1\n",
      "2\n",
      "3\n",
      "4\n",
      "5\n",
      "6\n",
      "7\n",
      "8\n",
      "9\n"
     ]
    }
   ],
   "source": [
    "for i in range(0,10):\n",
    "    print(i)"
   ]
  },
  {
   "cell_type": "code",
   "execution_count": 4,
   "id": "c84d4ae8",
   "metadata": {},
   "outputs": [
    {
     "name": "stdout",
     "output_type": "stream",
     "text": [
      "0\n",
      "1\n",
      "2\n",
      "3\n",
      "4\n",
      "5\n",
      "6\n",
      "7\n",
      "8\n",
      "9\n"
     ]
    }
   ],
   "source": [
    "for i in range(0,10,1):\n",
    "    print(i)"
   ]
  },
  {
   "cell_type": "markdown",
   "id": "49cdd6a2",
   "metadata": {},
   "source": [
    "### 12. Write a short program that prints the numbers 1 to 10 using a for loop. Then write an equivalent program that prints the numbers 1 to 10 using a while loop."
   ]
  },
  {
   "cell_type": "code",
   "execution_count": 5,
   "id": "f4b52d6b",
   "metadata": {},
   "outputs": [
    {
     "name": "stdout",
     "output_type": "stream",
     "text": [
      "1\n",
      "2\n",
      "3\n",
      "4\n",
      "5\n",
      "6\n",
      "7\n",
      "8\n",
      "9\n",
      "10\n"
     ]
    }
   ],
   "source": [
    "# Using for loop\n",
    "for i in range(1,11):\n",
    "    print(i)"
   ]
  },
  {
   "cell_type": "code",
   "execution_count": 2,
   "id": "873c0673",
   "metadata": {},
   "outputs": [
    {
     "name": "stdout",
     "output_type": "stream",
     "text": [
      "1\n",
      "2\n",
      "3\n",
      "4\n",
      "5\n",
      "6\n",
      "7\n",
      "8\n",
      "9\n",
      "10\n"
     ]
    }
   ],
   "source": [
    "# Using while loop\n",
    "\n",
    "i = 1\n",
    "while i <=10:\n",
    "    print(i)\n",
    "    i+=1"
   ]
  },
  {
   "cell_type": "markdown",
   "id": "dd9f5f80",
   "metadata": {},
   "source": [
    "### 13. If you had a function named bacon() inside a module named spam, how would you call it after importing spam?"
   ]
  },
  {
   "cell_type": "markdown",
   "id": "f6554732",
   "metadata": {},
   "source": [
    "import spam\n",
    "s = spam.bacon()"
   ]
  },
  {
   "cell_type": "code",
   "execution_count": null,
   "id": "9b810599",
   "metadata": {},
   "outputs": [],
   "source": []
  }
 ],
 "metadata": {
  "kernelspec": {
   "display_name": "Python 3 (ipykernel)",
   "language": "python",
   "name": "python3"
  },
  "language_info": {
   "codemirror_mode": {
    "name": "ipython",
    "version": 3
   },
   "file_extension": ".py",
   "mimetype": "text/x-python",
   "name": "python",
   "nbconvert_exporter": "python",
   "pygments_lexer": "ipython3",
   "version": "3.9.7"
  }
 },
 "nbformat": 4,
 "nbformat_minor": 5
}
