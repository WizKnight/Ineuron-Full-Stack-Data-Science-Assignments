{
 "cells": [
  {
   "cell_type": "markdown",
   "id": "5bb0bfed",
   "metadata": {},
   "source": [
    "# Assignment 4\n",
    "#### *Name: Swapnil Jikar*"
   ]
  },
  {
   "cell_type": "markdown",
   "id": "eb07cecd",
   "metadata": {},
   "source": [
    "### 1. What exactly is [ ]?"
   ]
  },
  {
   "cell_type": "markdown",
   "id": "0398deb4",
   "metadata": {},
   "source": [
    "**Ans.** The empty list is represented by [ ], it contains no items."
   ]
  },
  {
   "cell_type": "markdown",
   "id": "c3ea96b3",
   "metadata": {},
   "source": [
    "### 2. In a list of values stored in a variable called spam, how would you assign the value 'hello' as the third value? (Assume [2, 4, 6, 8, 10] are in spam.)\n",
    "\n"
   ]
  },
  {
   "cell_type": "code",
   "execution_count": 1,
   "id": "a2851591",
   "metadata": {},
   "outputs": [
    {
     "name": "stdout",
     "output_type": "stream",
     "text": [
      "[2, 4, 6, 8, 10]\n",
      "[2, 4, 'hello', 8, 10]\n"
     ]
    }
   ],
   "source": [
    "spam = [2, 4, 6, 8, 10]\n",
    "print(spam)\n",
    "\n",
    "spam[2] = 'hello' #Assigning 'hello' as the third value via the index 2.\n",
    "print(spam)"
   ]
  },
  {
   "cell_type": "markdown",
   "id": "470420e8",
   "metadata": {},
   "source": [
    "### Let's pretend the spam includes the list [&#39;a&#39;, &#39;b&#39;, &#39;c&#39;, &#39;d&#39;] for the next three queries."
   ]
  },
  {
   "cell_type": "markdown",
   "id": "bc535dbb",
   "metadata": {},
   "source": [
    "### 3. What is the value of spam[int(int(&#39;3&#39; * 2) / 11)]?\n"
   ]
  },
  {
   "cell_type": "code",
   "execution_count": 4,
   "id": "828254d9",
   "metadata": {},
   "outputs": [
    {
     "name": "stdout",
     "output_type": "stream",
     "text": [
      "spam[int(int('3' * 2) / 11)]->  d\n"
     ]
    }
   ],
   "source": [
    "spam = ['a', 'b', 'c', 'd']\n",
    "print(\"spam[int(int('3' * 2) / 11)]-> \", spam[int(int('3' * 2)/11)])\n"
   ]
  },
  {
   "cell_type": "markdown",
   "id": "634811af",
   "metadata": {},
   "source": [
    "**Explanation**: ('3'*2 is a string equating to '33',which is passed to int(), then dividing it by 11. This evaluates to 3.\n",
    "then spam[3] returns the value d)"
   ]
  },
  {
   "cell_type": "markdown",
   "id": "38848ea3",
   "metadata": {},
   "source": [
    "### 4. What is the value of spam[-1]?"
   ]
  },
  {
   "cell_type": "code",
   "execution_count": 5,
   "id": "8a168a5a",
   "metadata": {},
   "outputs": [
    {
     "name": "stdout",
     "output_type": "stream",
     "text": [
      "spam[-1] -> d\n"
     ]
    }
   ],
   "source": [
    "spam = ['a', 'b', 'c', 'd']\n",
    "print(\"spam[-1] ->\",spam[-1])"
   ]
  },
  {
   "cell_type": "markdown",
   "id": "5894d9fa",
   "metadata": {},
   "source": [
    "### 5. What is the value of spam[:2]?\n"
   ]
  },
  {
   "cell_type": "code",
   "execution_count": 6,
   "id": "719ff705",
   "metadata": {},
   "outputs": [
    {
     "name": "stdout",
     "output_type": "stream",
     "text": [
      "spam[:2] -> ['a', 'b']\n"
     ]
    }
   ],
   "source": [
    "spam = ['a', 'b', 'c', 'd']\n",
    "print(\"spam[:2] ->\",spam[:2])"
   ]
  },
  {
   "cell_type": "markdown",
   "id": "87eda359",
   "metadata": {},
   "source": [
    "### Let&#39;s pretend bacon has the list [3.14, &#39;cat&#39; ,11, &#39;cat&#39; ,True] for the next three questions."
   ]
  },
  {
   "cell_type": "markdown",
   "id": "5434b0e5",
   "metadata": {},
   "source": [
    "### 6. What is the value of bacon.index(&#39;cat&#39;)?"
   ]
  },
  {
   "cell_type": "code",
   "execution_count": 14,
   "id": "777496ca",
   "metadata": {},
   "outputs": [
    {
     "name": "stdout",
     "output_type": "stream",
     "text": [
      "bacon.index('cat') -> 1\n"
     ]
    }
   ],
   "source": [
    "bacon = [3.14, 'cat',11, 'cat',True]\n",
    "print(\"bacon.index('cat') ->\", bacon.index('cat'))"
   ]
  },
  {
   "cell_type": "markdown",
   "id": "b908f2df",
   "metadata": {},
   "source": [
    "### 7. How does bacon.append(99) change the look of the list value in bacon?"
   ]
  },
  {
   "cell_type": "code",
   "execution_count": 19,
   "id": "1553f6fd",
   "metadata": {},
   "outputs": [
    {
     "name": "stdout",
     "output_type": "stream",
     "text": [
      "[3.14, 'cat', 11, 'cat', True, 99]\n"
     ]
    }
   ],
   "source": [
    "#The '.append' method add new element at the end of a list.\n",
    "\n",
    "bacon = [3.14, 'cat',11, 'cat',True]\n",
    "bacon.append(99) # appends 99 at the end of a list\n",
    "print(bacon)"
   ]
  },
  {
   "cell_type": "markdown",
   "id": "f4a50016",
   "metadata": {},
   "source": [
    "### 8. How does bacon.remove(&#39;cat&#39;) change the look of the list in bacon?"
   ]
  },
  {
   "cell_type": "code",
   "execution_count": 20,
   "id": "54a9878f",
   "metadata": {},
   "outputs": [
    {
     "name": "stdout",
     "output_type": "stream",
     "text": [
      "[3.14, 'cat', 11, 'cat', True]\n",
      "[3.14, 11, 'cat', True]\n"
     ]
    }
   ],
   "source": [
    "# The '.remove' method removes the element from the list.\n",
    "\n",
    "bacon = [3.14, 'cat',11, 'cat',True]\n",
    "print(bacon)\n",
    "bacon.remove('cat')\n",
    "print(bacon)"
   ]
  },
  {
   "cell_type": "markdown",
   "id": "9414ce44",
   "metadata": {},
   "source": [
    "### 9. What are the list concatenation and list replication operators?"
   ]
  },
  {
   "cell_type": "markdown",
   "id": "72a8aeaf",
   "metadata": {},
   "source": [
    "**Ans.** The operator for list concatenation is '+', while the operator for replication is ' * '. "
   ]
  },
  {
   "cell_type": "code",
   "execution_count": 22,
   "id": "81d0c9e5",
   "metadata": {},
   "outputs": [
    {
     "name": "stdout",
     "output_type": "stream",
     "text": [
      "['a', 'b', 'c', 'd', 'A', 'B', 'C']\n",
      "['A', 'B', 'C', 'A', 'B', 'C']\n"
     ]
    }
   ],
   "source": [
    "list_1 = ['a','b','c','d']\n",
    "list_2 = ['A','B','C']\n",
    "\n",
    "print(list_1 + list_2) # List Concatenation\n",
    "print(list_2*2) # List Replication"
   ]
  },
  {
   "cell_type": "markdown",
   "id": "0e7546f9",
   "metadata": {},
   "source": [
    "### 10. What is difference between the list methods append() and insert()?"
   ]
  },
  {
   "cell_type": "markdown",
   "id": "c3f71b10",
   "metadata": {},
   "source": [
    "**Ans.** The append() method adds new element only at the end of the list. While insert() method adds new element anywhere in the list."
   ]
  },
  {
   "cell_type": "code",
   "execution_count": 25,
   "id": "af205687",
   "metadata": {},
   "outputs": [
    {
     "name": "stdout",
     "output_type": "stream",
     "text": [
      "['a', 'b', 'c', 'd', 'E']\n",
      "['a', 'b', 'ME', 'c', 'd', 'E']\n"
     ]
    }
   ],
   "source": [
    "#Example\n",
    "spam = ['a', 'b', 'c', 'd']\n",
    "spam.append('E')\n",
    "print(spam)\n",
    "\n",
    "spam.insert(2,'ME')\n",
    "print(spam)\n"
   ]
  },
  {
   "cell_type": "markdown",
   "id": "4d254a32",
   "metadata": {},
   "source": [
    "### 11. What are the two methods for removing items from a list?"
   ]
  },
  {
   "cell_type": "markdown",
   "id": "4ee06aa0",
   "metadata": {},
   "source": [
    "**Ans.** The *remove()* method and the '*del* ' statement are the two methods for removing items from a list."
   ]
  },
  {
   "cell_type": "markdown",
   "id": "b3cd279f",
   "metadata": {},
   "source": [
    "### 12. Describe how list values and string values are identical."
   ]
  },
  {
   "cell_type": "markdown",
   "id": "f6664a24",
   "metadata": {},
   "source": [
    "**Ans.**\n",
    "1. Both list and string can be passed to *len()* function.\n",
    "2. Both have indexes and slices.\n",
    "3. Both can be used in *for* loop.\n",
    "4. Both can be *concatenated* or *replicated*.\n",
    "5. Both can be used with the *in* and *not in* operators"
   ]
  },
  {
   "cell_type": "markdown",
   "id": "2d9748b1",
   "metadata": {},
   "source": [
    "### 13. What&#39;s the difference between tuples and lists?"
   ]
  },
  {
   "cell_type": "markdown",
   "id": "d407a734",
   "metadata": {},
   "source": [
    "**Ans.** \n",
    "***Lists :*** \n",
    "* List are Mutable, Indexable and Slicable.\n",
    "* List uses square brackets '[ ]' as parenthesis.\n",
    "\n",
    "***Tuples :*** \n",
    "* Tuples are Immutable, Indexable and Slicable.\n",
    "* Tuple uses curly brackets '{ }' as parenthesis."
   ]
  },
  {
   "cell_type": "markdown",
   "id": "73e7915d",
   "metadata": {},
   "source": [
    "### 14. How do you type a tuple value that only contains the integer 42?"
   ]
  },
  {
   "cell_type": "code",
   "execution_count": 27,
   "id": "0fc26b43",
   "metadata": {},
   "outputs": [
    {
     "name": "stdout",
     "output_type": "stream",
     "text": [
      "<class 'int'>\n",
      "<class 'tuple'>\n"
     ]
    }
   ],
   "source": [
    "tup1 = (42)\n",
    "tup2 = (42,)\n",
    "print(type(tup1))\n",
    "print(type(tup2))"
   ]
  },
  {
   "cell_type": "markdown",
   "id": "eba08ce4",
   "metadata": {},
   "source": [
    "### 16. Variables that &quot;contain&quot; list values are not necessarily lists themselves. Instead, what do they contain?"
   ]
  },
  {
   "cell_type": "markdown",
   "id": "a724130b",
   "metadata": {},
   "source": [
    "**Ans.** They contain references to list values."
   ]
  },
  {
   "cell_type": "markdown",
   "id": "b53d6113",
   "metadata": {},
   "source": [
    "### 17. How do you distinguish between copy.copy() and copy.deepcopy()?"
   ]
  },
  {
   "cell_type": "markdown",
   "id": "36fc385a",
   "metadata": {},
   "source": [
    "**Ans.** The **copy.copy()** will make a shallow copy of a list, while the **copy.deepcopy()** will make a deep copy of a list in detail."
   ]
  },
  {
   "cell_type": "code",
   "execution_count": null,
   "id": "86611e4b",
   "metadata": {},
   "outputs": [],
   "source": []
  },
  {
   "cell_type": "code",
   "execution_count": null,
   "id": "b93c3be4",
   "metadata": {},
   "outputs": [],
   "source": []
  },
  {
   "cell_type": "code",
   "execution_count": null,
   "id": "a31c7c9c",
   "metadata": {},
   "outputs": [],
   "source": []
  },
  {
   "cell_type": "code",
   "execution_count": null,
   "id": "206a7ad5",
   "metadata": {},
   "outputs": [],
   "source": []
  },
  {
   "cell_type": "code",
   "execution_count": null,
   "id": "56ff9606",
   "metadata": {},
   "outputs": [],
   "source": []
  }
 ],
 "metadata": {
  "kernelspec": {
   "display_name": "Python 3 (ipykernel)",
   "language": "python",
   "name": "python3"
  },
  "language_info": {
   "codemirror_mode": {
    "name": "ipython",
    "version": 3
   },
   "file_extension": ".py",
   "mimetype": "text/x-python",
   "name": "python",
   "nbconvert_exporter": "python",
   "pygments_lexer": "ipython3",
   "version": "3.9.7"
  }
 },
 "nbformat": 4,
 "nbformat_minor": 5
}
