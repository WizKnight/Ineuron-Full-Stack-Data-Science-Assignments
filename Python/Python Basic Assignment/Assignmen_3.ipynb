{
 "cells": [
  {
   "cell_type": "markdown",
   "id": "a6b8288a",
   "metadata": {},
   "source": [
    "# Assignment 3 Solutions\n",
    "\n",
    "### *Name: Swapnil Jikar*"
   ]
  },
  {
   "cell_type": "markdown",
   "id": "111fcc84",
   "metadata": {},
   "source": [
    "### 1. Why are functions advantageous to have in your programs?"
   ]
  },
  {
   "cell_type": "markdown",
   "id": "8f5f9ff9",
   "metadata": {},
   "source": [
    "**Ans.** Following are the advantages to have functions in a program:\n",
    "    \n",
    "   * Reducing duplication of the code.\n",
    "   * Decomposing complex problems into simpler ones.\n",
    "   * Improving the clarity of the code.\n",
    "   * Reusing of the code."
   ]
  },
  {
   "cell_type": "markdown",
   "id": "c09d2d04",
   "metadata": {},
   "source": [
    "### 2. When does the code in a function run: when it&#39;s specified or when it's called?"
   ]
  },
  {
   "cell_type": "markdown",
   "id": "ca0b9124",
   "metadata": {},
   "source": [
    "**Ans.** The code in a function runs only when the function is called not when it is specified."
   ]
  },
  {
   "cell_type": "markdown",
   "id": "a0990573",
   "metadata": {},
   "source": [
    "### 3. What statement creates a function?"
   ]
  },
  {
   "cell_type": "markdown",
   "id": "553aca5f",
   "metadata": {},
   "source": [
    "**Ans.** The **def** statement defines a function.\n",
    "\n",
    "***Syntax of Function:***\n",
    "\n",
    "def function_name(parameters): \"\"\"doc string\"\"\" --function body-- --function body-- return value"
   ]
  },
  {
   "cell_type": "markdown",
   "id": "457fecfa",
   "metadata": {},
   "source": [
    "### 4. What is the difference between a function and a function call?"
   ]
  },
  {
   "cell_type": "markdown",
   "id": "ac043ba1",
   "metadata": {},
   "source": [
    "**Ans.** A function is a step-by-step process used to get a specific result. While function call is using this function to achive that task. Using a function to do a particular task any point in program is called as function call."
   ]
  },
  {
   "cell_type": "markdown",
   "id": "56e11e43",
   "metadata": {},
   "source": [
    "### 5. How many global scopes are there in a Python program? How many local scopes?"
   ]
  },
  {
   "cell_type": "markdown",
   "id": "87ca8604",
   "metadata": {},
   "source": [
    "**Ans.** There is one global scope, and a local scope is created whenever a function is called."
   ]
  },
  {
   "cell_type": "markdown",
   "id": "c2388cc1",
   "metadata": {},
   "source": [
    "### 6. What happens to variables in a local scope when the function call returns?"
   ]
  },
  {
   "cell_type": "markdown",
   "id": "69fff475",
   "metadata": {},
   "source": [
    "**Ans.** When a function returns, the local scope is destroyed, and all the variables in it are forgotten."
   ]
  },
  {
   "cell_type": "markdown",
   "id": "dbdf11ad",
   "metadata": {},
   "source": [
    "### 7. What is the concept of a return value? Is it possible to have a return value in an expression?"
   ]
  },
  {
   "cell_type": "markdown",
   "id": "c0a09012",
   "metadata": {},
   "source": [
    "**Ans.** A return vaue is a value that funtion call evaluated to. And yes it is possible have a return value in an expression."
   ]
  },
  {
   "cell_type": "markdown",
   "id": "dc8d61a5",
   "metadata": {},
   "source": [
    "### 8. If a function does not have a return statement, what is the return value of a call to that function?"
   ]
  },
  {
   "cell_type": "markdown",
   "id": "de3fc908",
   "metadata": {},
   "source": [
    "**Ans.**  If a function does not have a return statement, then the return value of a call to that function is None."
   ]
  },
  {
   "cell_type": "markdown",
   "id": "acda6d05",
   "metadata": {},
   "source": [
    "### 9. How do you make a function variable refer to the global variable?"
   ]
  },
  {
   "cell_type": "markdown",
   "id": "08e45b9e",
   "metadata": {},
   "source": [
    "**Ans.** A global statement will force a variable in a function to refer to the global variable. If you want to refer to a global variable in a function, you can use the global keyword to declare which variables are global."
   ]
  },
  {
   "cell_type": "markdown",
   "id": "424715a3",
   "metadata": {},
   "source": [
    "### 10. What is the data type of None?"
   ]
  },
  {
   "cell_type": "markdown",
   "id": "15733336",
   "metadata": {},
   "source": [
    "**Ans.** The datatype of None is NoneType."
   ]
  },
  {
   "cell_type": "markdown",
   "id": "ce4e736e",
   "metadata": {},
   "source": [
    "### 11. What does the sentence import areallyourpetsnamederic do?"
   ]
  },
  {
   "cell_type": "markdown",
   "id": "b30655cd",
   "metadata": {},
   "source": [
    "**Ans.**  **import** areallyourpetsnamederic"
   ]
  },
  {
   "cell_type": "markdown",
   "id": "18398e07",
   "metadata": {},
   "source": [
    "The *import* statement imports the module named *areallyourpetsnamederic*."
   ]
  },
  {
   "cell_type": "markdown",
   "id": "35063b2f",
   "metadata": {},
   "source": [
    "### 12. If you had a bacon() feature in a spam module, what would you call it after importing spam?"
   ]
  },
  {
   "cell_type": "markdown",
   "id": "97c70f29",
   "metadata": {},
   "source": [
    "import spam\n",
    "s = spam.bacon()"
   ]
  },
  {
   "cell_type": "markdown",
   "id": "6b2cb2bd",
   "metadata": {},
   "source": [
    "### 13. What can you do to save a programme from crashing if it encounters an error?"
   ]
  },
  {
   "cell_type": "markdown",
   "id": "1db567ec",
   "metadata": {},
   "source": [
    "**Ans.** We can write code in *try* clause. This will not crash the programme. And in *except* block we can handle the error."
   ]
  },
  {
   "cell_type": "markdown",
   "id": "a5e2df2f",
   "metadata": {},
   "source": [
    "### 14. What is the purpose of the try clause? What is the purpose of the except clause?"
   ]
  },
  {
   "cell_type": "markdown",
   "id": "401ad216",
   "metadata": {},
   "source": [
    "**Ans.**  The code that causes an error goes in the try clause and the code that executes if an error happens goes in the except clause."
   ]
  },
  {
   "cell_type": "code",
   "execution_count": null,
   "id": "0d815365",
   "metadata": {},
   "outputs": [],
   "source": []
  }
 ],
 "metadata": {
  "kernelspec": {
   "display_name": "Python 3 (ipykernel)",
   "language": "python",
   "name": "python3"
  },
  "language_info": {
   "codemirror_mode": {
    "name": "ipython",
    "version": 3
   },
   "file_extension": ".py",
   "mimetype": "text/x-python",
   "name": "python",
   "nbconvert_exporter": "python",
   "pygments_lexer": "ipython3",
   "version": "3.9.7"
  }
 },
 "nbformat": 4,
 "nbformat_minor": 5
}
