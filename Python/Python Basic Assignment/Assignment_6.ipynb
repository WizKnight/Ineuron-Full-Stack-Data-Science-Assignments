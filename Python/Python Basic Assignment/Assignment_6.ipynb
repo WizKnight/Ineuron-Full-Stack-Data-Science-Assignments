{
 "cells": [
  {
   "cell_type": "markdown",
   "id": "312d0fb4",
   "metadata": {},
   "source": [
    "# Assignment 6\n",
    "#### *Name: Swapnil Jikar*"
   ]
  },
  {
   "cell_type": "markdown",
   "id": "36f13c39",
   "metadata": {},
   "source": [
    "### 1. What are escape characters, and how do you use them?"
   ]
  },
  {
   "cell_type": "markdown",
   "id": "1400e43e",
   "metadata": {},
   "source": [
    "**Ans.** To insert characters that are illegal in a string, uses an escape character. An escape character is a backslash `\\ ` followed by the character you want to insert.\n",
    "\n",
    "**Example :** `\\t, \\n`"
   ]
  },
  {
   "cell_type": "markdown",
   "id": "086a41ff",
   "metadata": {},
   "source": [
    "### 2. What do the escape characters n and t stand for?"
   ]
  },
  {
   "cell_type": "markdown",
   "id": "4c16fea2",
   "metadata": {},
   "source": [
    "**Ans.** `\\n` is a newline and `\\t` is a tab."
   ]
  },
  {
   "cell_type": "markdown",
   "id": "86ac2908",
   "metadata": {},
   "source": [
    "### 3. What is the way to include backslash characters in a string?"
   ]
  },
  {
   "cell_type": "markdown",
   "id": "47355196",
   "metadata": {},
   "source": [
    "**Ans.** The `\\\\` escape character will represent the backslash character in a string."
   ]
  },
  {
   "cell_type": "markdown",
   "id": "e7ddff4c",
   "metadata": {},
   "source": [
    "### 4. The string &quot;Howl&#39;s Moving Castle&quot; is a correct value. Why isn&#39;t the single quote character in the word Howl&#39;s not escaped a problem?"
   ]
  },
  {
   "cell_type": "markdown",
   "id": "3af755b5",
   "metadata": {},
   "source": [
    "**Ans.** The string `\"Howl's Moving Castle\"` escaped the problem because it is wrapped inside the double quotes. If it was wriiten inside the single quotes then we would have to use the character `\\'` to shaow single quote in the output.\n",
    "\n",
    "`'Howl\\'s Moving Castle'` --> `'Howl's Moving Castle'`"
   ]
  },
  {
   "cell_type": "markdown",
   "id": "ea2cc2eb",
   "metadata": {},
   "source": [
    "### 5. How do you write a string of newlines if you don&#39;t want to use the n character?"
   ]
  },
  {
   "cell_type": "code",
   "execution_count": 3,
   "id": "924656ab",
   "metadata": {},
   "outputs": [
    {
     "name": "stdout",
     "output_type": "stream",
     "text": [
      "India won the 2nd\n",
      "test match against Australia.\n"
     ]
    }
   ],
   "source": [
    "Outcome = '''India won the 2nd\n",
    "test match against Australia.'''\n",
    "\n",
    "print(Outcome)"
   ]
  },
  {
   "cell_type": "markdown",
   "id": "7cf2a719",
   "metadata": {},
   "source": [
    "### 6. What are the values of the given expressions?\n",
    "### &#39;Hello, world!&#39;[1]\n",
    "### &#39;Hello, world!&#39;[0:5]\n",
    "### &#39;Hello, world!&#39;[:5]\n",
    "### &#39;Hello, world!&#39;[3:]"
   ]
  },
  {
   "cell_type": "markdown",
   "id": "65231be8",
   "metadata": {},
   "source": [
    "**Ans.** The values of the given expressions are\n",
    "\n",
    "* 'Hello, world!'[1] --> `'e'`\n",
    "* 'Hello, world!'[0:5]--> `'Hello'`\n",
    "* 'Hello, world!'[:5] --> `'Hello'`\n",
    "* 'Hello, world!'[3:] --> `'lo, world!'`"
   ]
  },
  {
   "cell_type": "markdown",
   "id": "fa0fa8ef",
   "metadata": {},
   "source": [
    "### 7. What are the values of the following expressions?\n",
    "### &#39;Hello&#39;.upper()\n",
    "### &#39;Hello&#39;.upper().isupper()\n",
    "### &#39;Hello&#39;.upper().lower()"
   ]
  },
  {
   "cell_type": "markdown",
   "id": "5e823fd2",
   "metadata": {},
   "source": [
    "**Ans.** The values of the given expressions are\n",
    "\n",
    "* 'Hello'.upper() --> `'HELLO'`\n",
    "* 'Hello'.upper().isupper() --> `'True'`\n",
    "* 'Hello'.upper().lower() --> `'hello'`"
   ]
  },
  {
   "cell_type": "markdown",
   "id": "40a3170f",
   "metadata": {},
   "source": [
    "### 8. What are the values of the following expressions?\n",
    "### &#39;Remember, remember, the fifth of July.&#39;.split()\n",
    "### &#39;-&#39;.join(&#39;There can only one.&#39;.split())"
   ]
  },
  {
   "cell_type": "markdown",
   "id": "e8b9eb4d",
   "metadata": {},
   "source": [
    "**Ans.** The values of the given expressions are\n",
    "\n",
    "* 'Remember, remember, the fifth of July.'.split()  -->  `['Remember','remember'.'the','fifth','of','July']`\n",
    "\n",
    "* '-'.join('There can only one.'.split()) -->  `'There-can-only-one.'`"
   ]
  },
  {
   "cell_type": "markdown",
   "id": "7b9745dd",
   "metadata": {},
   "source": [
    "### 9. What are the methods for right-justifying, left-justifying, and centering a string?"
   ]
  },
  {
   "cell_type": "markdown",
   "id": "34110e8c",
   "metadata": {},
   "source": [
    "**Ans.** The `rjust()`,`ljust()`,`center()` string methods, respectively."
   ]
  },
  {
   "cell_type": "markdown",
   "id": "f31d825c",
   "metadata": {},
   "source": [
    "### 10. What is the best way to remove whitespace characters from the start or end?"
   ]
  },
  {
   "cell_type": "markdown",
   "id": "52af0c33",
   "metadata": {},
   "source": [
    "**Ans.** The `lstrip()` and `rstrip()` methods remove whitesapce characters from the left and right ends of a string respectively"
   ]
  },
  {
   "cell_type": "code",
   "execution_count": null,
   "id": "98c50f7f",
   "metadata": {},
   "outputs": [],
   "source": []
  }
 ],
 "metadata": {
  "kernelspec": {
   "display_name": "Python 3 (ipykernel)",
   "language": "python",
   "name": "python3"
  },
  "language_info": {
   "codemirror_mode": {
    "name": "ipython",
    "version": 3
   },
   "file_extension": ".py",
   "mimetype": "text/x-python",
   "name": "python",
   "nbconvert_exporter": "python",
   "pygments_lexer": "ipython3",
   "version": "3.9.7"
  }
 },
 "nbformat": 4,
 "nbformat_minor": 5
}
