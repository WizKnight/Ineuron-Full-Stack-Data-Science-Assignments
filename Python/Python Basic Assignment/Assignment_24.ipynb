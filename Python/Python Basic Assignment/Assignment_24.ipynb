{
 "cells": [
  {
   "cell_type": "markdown",
   "id": "fbce2f52",
   "metadata": {},
   "source": [
    " # Assignment No. 24 Solutions\n",
    "\n",
    "## Name: Swapnil Jikar"
   ]
  },
  {
   "cell_type": "markdown",
   "id": "cbf195c4",
   "metadata": {},
   "source": [
    "### 1. What is the relationship between def statements and lambda expressions ?"
   ]
  },
  {
   "cell_type": "markdown",
   "id": "0dbb13ae",
   "metadata": {},
   "source": [
    "**Ans:** `def` statement is used to create a normal function. where as `lamba` expressions are used to create `Anonymous functions`. which can be assigned to a variable and can be called using the variable later in function."
   ]
  },
  {
   "cell_type": "markdown",
   "id": "2067a3c0",
   "metadata": {},
   "source": [
    "### 2. What is the benefit of lambda?"
   ]
  },
  {
   "cell_type": "markdown",
   "id": "ccd39294",
   "metadata": {},
   "source": [
    "**Ans.:** The following are some of the benefits of lambda expressions:\n",
    "\n",
    "1. Can be used to create Nameless/Anonymous functions inside some complex functions if we are planning to use it only once.\n",
    "2. Moderate to small functions can be created in a single line\n",
    "3. Fuctions created using lambda expressions can be assigned to a variable and can be used by simply calling the variable"
   ]
  },
  {
   "cell_type": "markdown",
   "id": "bf859204",
   "metadata": {},
   "source": [
    "### 3. Compare and contrast map, filter, and reduce."
   ]
  },
  {
   "cell_type": "markdown",
   "id": "3a3f166f",
   "metadata": {},
   "source": [
    "**Ans:** The differences between map, filter and reduce are:\n",
    "\n",
    "1. map(): The map() function is a type of higher-order. This function takes another function as a parameter along with a sequence of iterables and returns an output after applying the function to each iterable present in the sequence.\n",
    "\n",
    "2. filter(): The filter() function is used to create an output list consisting of values for which the function returns true.\n",
    "\n",
    "3. reduce(): The reduce() function, as the name describes, applies a given function to the iterables and returns a single value"
   ]
  },
  {
   "cell_type": "markdown",
   "id": "044df91c",
   "metadata": {},
   "source": [
    "### 4. What are function annotations, and how are they used?"
   ]
  },
  {
   "cell_type": "markdown",
   "id": "85406759",
   "metadata": {},
   "source": [
    "**Ans:** Function annotations provide a way of associating various parts of a function with arbitrary pythoncexpressions at compile time.\n",
    "Annotations of simple parameters `def func(x: expression, y: expression = 20):`\n",
    "Whereas the annotations for excess parameters are as − def func (**args: expression, **kwargs: expression):"
   ]
  },
  {
   "cell_type": "markdown",
   "id": "8d3e22ba",
   "metadata": {},
   "source": [
    "### 5. What are recursive functions, and how are they used?"
   ]
  },
  {
   "cell_type": "markdown",
   "id": "47ec653a",
   "metadata": {},
   "source": [
    "**Ans:** A recursive function is a function that calls itself during its execution. The process may repeat several times, outputting the result and the end of each iteration."
   ]
  },
  {
   "cell_type": "markdown",
   "id": "448abab0",
   "metadata": {},
   "source": [
    "### 6. What are some general design guidelines for coding functions?"
   ]
  },
  {
   "cell_type": "markdown",
   "id": "9acfd2af",
   "metadata": {},
   "source": [
    "**Ans:** Some of the general design guidelines for coding functions are:\n",
    "\n",
    "1. Always use a docstring to explain the functionality of the function\n",
    "2. Avoid using or limited use of global variables\n",
    "3. Proper Identation to increase the code readability\n",
    "4. Try to follow a naming convention for function names (pascalCase or camelCase) and stick with the same convention throughout the application.\n",
    "5. Avoid using digits while choosing a variable name\n",
    "6. ry to use a name for the function which conveys the purpose of the function\n",
    "7. Local variables should be named using camelCase format (ex: localVariable) whereas Global variables names should be using PascalCase (ex:GlobalVariable).\n",
    "8. Constant should be represented in allcaps (ex:CONSTANT)."
   ]
  },
  {
   "cell_type": "markdown",
   "id": "3423901f",
   "metadata": {},
   "source": [
    "### 7. Name three or more ways that functions can communicate results to a caller."
   ]
  },
  {
   "cell_type": "markdown",
   "id": "8f9272fe",
   "metadata": {},
   "source": [
    "**Ans:** Some of the ways in which a function can communicate with the calling function is:\n",
    "\n",
    "1. print\n",
    "2. return\n",
    "3. yield"
   ]
  },
  {
   "cell_type": "code",
   "execution_count": null,
   "id": "041cc498",
   "metadata": {},
   "outputs": [],
   "source": []
  }
 ],
 "metadata": {
  "kernelspec": {
   "display_name": "Python 3 (ipykernel)",
   "language": "python",
   "name": "python3"
  },
  "language_info": {
   "codemirror_mode": {
    "name": "ipython",
    "version": 3
   },
   "file_extension": ".py",
   "mimetype": "text/x-python",
   "name": "python",
   "nbconvert_exporter": "python",
   "pygments_lexer": "ipython3",
   "version": "3.10.9"
  }
 },
 "nbformat": 4,
 "nbformat_minor": 5
}
