{
 "cells": [
  {
   "cell_type": "markdown",
   "id": "0f9637bd",
   "metadata": {},
   "source": [
    "# Assignment 1 Solutions\n",
    "#Name: Swapnil Jikar"
   ]
  },
  {
   "cell_type": "markdown",
   "id": "00481262",
   "metadata": {},
   "source": [
    "### 1. In the below elements which of them are values or an expression? eg:- values can be integer or string and expressions will be mathematical operators."
   ]
  },
  {
   "cell_type": "markdown",
   "id": "fd3d493d",
   "metadata": {},
   "source": [
    "**Ans.**\n",
    "There are total no. of 4 Operators and 3 Values\n",
    "\n",
    "**Operators:** *,-,/,+\n",
    "\n",
    "**Values:** 'hello',-87.8,6"
   ]
  },
  {
   "cell_type": "markdown",
   "id": "82979a70",
   "metadata": {},
   "source": [
    "### 2. What is the difference between string and variable?"
   ]
  },
  {
   "cell_type": "markdown",
   "id": "a919b7c8",
   "metadata": {},
   "source": [
    "**Ans.**\n",
    "**Variable**: It is used to store the values or information.\n",
    "\n",
    "**String**: It is a type of value which is stored in a variable. A value which is enclosed in double quotes(\" \") or single quotes(' ')."
   ]
  },
  {
   "cell_type": "markdown",
   "id": "eca24140",
   "metadata": {},
   "source": [
    "### 3. Describe three different data types."
   ]
  },
  {
   "cell_type": "markdown",
   "id": "6d67320e",
   "metadata": {},
   "source": [
    "**Ans.**\n",
    "\n",
    "**Integer**:- It's a numeric data type for numbers without any fractions. **Ex.**: -81,102,56\n",
    "\n",
    "**Float**:- It's a numeric data type for numbers with fractions. **Ex.**: 10.5,70.05,15.20\n",
    "\n",
    "**Character**:- It's a data type consisting og digits,single letters,symbols. **Ex.**:- Hi,+/-,123"
   ]
  },
  {
   "cell_type": "markdown",
   "id": "ab29fe94",
   "metadata": {},
   "source": [
    "### 4. What is an expression made up of? What do all expressions do?"
   ]
  },
  {
   "cell_type": "markdown",
   "id": "88a18d83",
   "metadata": {},
   "source": [
    "**Ans.**  An expression is made up of variables,coefficients, operators and constants. When we add an expression to the prompt, the interpreter evaluates the value and displays the result."
   ]
  },
  {
   "cell_type": "code",
   "execution_count": 14,
   "id": "12172d2f",
   "metadata": {},
   "outputs": [
    {
     "data": {
      "text/plain": [
       "39"
      ]
     },
     "execution_count": 14,
     "metadata": {},
     "output_type": "execute_result"
    }
   ],
   "source": [
    "50-10*2+9 # This is an expression and the interpreter evaluates it's value to 39."
   ]
  },
  {
   "cell_type": "markdown",
   "id": "61765503",
   "metadata": {},
   "source": [
    "### 5. This assignment statements, like spam = 10. What is the difference between an expression and a statement?"
   ]
  },
  {
   "cell_type": "markdown",
   "id": "8df3f582",
   "metadata": {},
   "source": [
    "**Ans.** ***Expression:-*** An expression is made up of variables,coefficients, operators and constants. When we add an expression to the prompt, the interpreter evaluates the value and displays the result.\n",
    "\n",
    "\n",
    "**Ex.** 50-10*2+9\n",
    "\n",
    "***Statement:-*** A statement is a piece of code that produces results, such as setting up a variable or showing a value.\n",
    "\n",
    "**Ex.** spam=10"
   ]
  },
  {
   "cell_type": "markdown",
   "id": "001aa3f8",
   "metadata": {},
   "source": [
    "### 6. After running the following code, what does the variable bacon contain?\n",
    "### bacon = 22\n",
    "### bacon + 1"
   ]
  },
  {
   "cell_type": "code",
   "execution_count": 15,
   "id": "ac841dd8",
   "metadata": {},
   "outputs": [
    {
     "name": "stdout",
     "output_type": "stream",
     "text": [
      "22\n"
     ]
    }
   ],
   "source": [
    "bacon=22\n",
    "bacon+1\n",
    "print(bacon)"
   ]
  },
  {
   "cell_type": "markdown",
   "id": "f5005ce8",
   "metadata": {},
   "source": [
    "**Ans.** **bacon** variable will still contain the value 22 because the expression **\"bacon+1\"** does not reassign the value."
   ]
  },
  {
   "cell_type": "markdown",
   "id": "984afd2b",
   "metadata": {},
   "source": [
    "### 7. What should the values of the following two terms be?\n",
    "### 'spam' + 'spamspam'\n",
    "### 'spam' * 3"
   ]
  },
  {
   "cell_type": "code",
   "execution_count": 16,
   "id": "8a29ab68",
   "metadata": {},
   "outputs": [
    {
     "name": "stdout",
     "output_type": "stream",
     "text": [
      "spamspamspam\n",
      "spamspamspam\n"
     ]
    }
   ],
   "source": [
    "#1\n",
    "print('spam' + 'spamspam')\n",
    "#2\n",
    "print('spam' * 3)"
   ]
  },
  {
   "cell_type": "markdown",
   "id": "3e169eeb",
   "metadata": {},
   "source": [
    "**Ans.**   For the following both the expression evaluates to the string **'spamspamspam'**. So, for the #1 it is *String Concatenation* and for #2 it is *String Multiplication*."
   ]
  },
  {
   "cell_type": "markdown",
   "id": "e31b6e8a",
   "metadata": {},
   "source": [
    "### 8. Why is eggs a valid variable name while 100 is invalid?"
   ]
  },
  {
   "cell_type": "markdown",
   "id": "4dd74095",
   "metadata": {},
   "source": [
    "**Ans. 'eggs'** is a valid variable name while **'100'** is invalid because as per the Python rules, variable names cannot begin with numbers."
   ]
  },
  {
   "cell_type": "markdown",
   "id": "73c84abb",
   "metadata": {},
   "source": [
    "### 9. What three functions can be used to get the integer, floating-point number, or string version of a value?"
   ]
  },
  {
   "cell_type": "markdown",
   "id": "44ab19d4",
   "metadata": {},
   "source": [
    "**Ans.**\n",
    "\n",
    "(i) **int()** -> For integer values\n",
    "\n",
    "(ii) **float()** -> For float point values\n",
    "\n",
    "(iii) **str()** -> For string values\n"
   ]
  },
  {
   "cell_type": "markdown",
   "id": "ba5d75c9",
   "metadata": {},
   "source": [
    "### 10. Why does this expression cause an error? How can you fix it?\n",
    "### 'I have eaten' + 99 + 'burritos.'"
   ]
  },
  {
   "cell_type": "markdown",
   "id": "078801ae",
   "metadata": {},
   "source": [
    "**Ans.**  This expression ('I have eaten' + 99 + 'burritos.') cause an error because '99' is not a string. So, to fix it we need to typecast 99 to a string."
   ]
  },
  {
   "cell_type": "code",
   "execution_count": 17,
   "id": "2261b019",
   "metadata": {},
   "outputs": [
    {
     "name": "stdout",
     "output_type": "stream",
     "text": [
      "I have eaten 99 burritos.\n"
     ]
    }
   ],
   "source": [
    "print('I have eaten ' + str(99) + ' burritos.')"
   ]
  },
  {
   "cell_type": "code",
   "execution_count": null,
   "id": "a88c28d4",
   "metadata": {},
   "outputs": [],
   "source": []
  }
 ],
 "metadata": {
  "kernelspec": {
   "display_name": "Python 3 (ipykernel)",
   "language": "python",
   "name": "python3"
  },
  "language_info": {
   "codemirror_mode": {
    "name": "ipython",
    "version": 3
   },
   "file_extension": ".py",
   "mimetype": "text/x-python",
   "name": "python",
   "nbconvert_exporter": "python",
   "pygments_lexer": "ipython3",
   "version": "3.9.7"
  }
 },
 "nbformat": 4,
 "nbformat_minor": 5
}
